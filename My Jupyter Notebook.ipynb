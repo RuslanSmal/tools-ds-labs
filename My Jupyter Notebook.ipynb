{
 "cells": [
  {
   "cell_type": "markdown",
   "id": "1164721e",
   "metadata": {},
   "source": [
    "# My Jupyter Notebook"
   ]
  },
  {
   "cell_type": "markdown",
   "id": "e15b9bda",
   "metadata": {},
   "source": [
    "**Ruslan Smal**"
   ]
  },
  {
   "cell_type": "markdown",
   "id": "d1833e22",
   "metadata": {},
   "source": [
    "_I like data science as it so great  profession for nowadays_"
   ]
  },
  {
   "cell_type": "markdown",
   "id": "0cda2da9",
   "metadata": {},
   "source": [
    "### My code just adding two numbers"
   ]
  },
  {
   "cell_type": "code",
   "execution_count": 1,
   "id": "b7fe7171",
   "metadata": {},
   "outputs": [
    {
     "data": {
      "text/plain": [
       "26"
      ]
     },
     "execution_count": 1,
     "metadata": {},
     "output_type": "execute_result"
    }
   ],
   "source": [
    "13+13"
   ]
  },
  {
   "cell_type": "markdown",
   "id": "8f86cf0d",
   "metadata": {},
   "source": [
    "[Google search for any insights ](https://www.google.com)"
   ]
  },
  {
   "cell_type": "markdown",
   "id": "b55f9a12",
   "metadata": {},
   "source": [
    "```python\n",
    "s = \"Python syntax highlighting\"\n",
    "print s\n",
    "```"
   ]
  },
  {
   "cell_type": "markdown",
   "id": "d3a8f060",
   "metadata": {},
   "source": [
    "Markdown | Less | Pretty\n",
    "--- | --- | ---\n",
    "*Still* | `renders` | **nicely**\n",
    "1 | 2 | 3"
   ]
  },
  {
   "cell_type": "code",
   "execution_count": null,
   "id": "5870427e",
   "metadata": {},
   "outputs": [],
   "source": []
  }
 ],
 "metadata": {
  "kernelspec": {
   "display_name": "Python 3 (ipykernel)",
   "language": "python",
   "name": "python3"
  },
  "language_info": {
   "codemirror_mode": {
    "name": "ipython",
    "version": 3
   },
   "file_extension": ".py",
   "mimetype": "text/x-python",
   "name": "python",
   "nbconvert_exporter": "python",
   "pygments_lexer": "ipython3",
   "version": "3.9.13"
  }
 },
 "nbformat": 4,
 "nbformat_minor": 5
}
